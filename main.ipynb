{
 "cells": [
  {
   "cell_type": "code",
   "execution_count": 74,
   "metadata": {},
   "outputs": [],
   "source": [
    "import re\n",
    "import pandas as pd\n",
    "import os\n",
    "from bs4 import BeautifulSoup"
   ]
  },
  {
   "cell_type": "markdown",
   "metadata": {},
   "source": [
    "## **Email Validation**\n",
    "\n",
    "This program extracts the validated email addresses from the text file given as the input. The extracted email adresses are then exported as an excel file as 'test.xlsx'. It also check for the exsisting file, if any."
   ]
  },
  {
   "cell_type": "code",
   "execution_count": 73,
   "metadata": {},
   "outputs": [
    {
     "name": "stdout",
     "output_type": "stream",
     "text": [
      "Found an existing file! Updating it to a new one.\n",
      "Exported Successfully!\n"
     ]
    }
   ],
   "source": [
    "def validate_email(text_file):\n",
    "    with open(text_file, 'r') as file:\n",
    "        content = file.read()\n",
    "\n",
    "    expression = r'\\b[A-Za-z0-9._%+-]+@[A-Za-z0-9.-]+\\.[A-Za-z.]{2,7}'\n",
    "    words = re.split(r'\\s+|[,!?;]', content)\n",
    "    result = [word.strip(\".,!?;\") for word in words if re.fullmatch(expression, word)]\n",
    "\n",
    "    df = pd.DataFrame(result,columns=['Valid Email IDs'])\n",
    "    file_name = 'test.xlsx'\n",
    "\n",
    "    if not os.path.exists(file_name):\n",
    "        df.to_excel('test.xlsx')\n",
    "    else:\n",
    "        print('Found an existing file! Updating it to a new one.')\n",
    "        os.remove(file_name)\n",
    "        df.to_excel('test.xlsx')\n",
    "\n",
    "    return \"Exported Successfully!\"\n",
    "\n",
    "print(validate_email('test.txt'))"
   ]
  },
  {
   "cell_type": "markdown",
   "metadata": {},
   "source": [
    "## **Parsing of HTML file**\n",
    "The program parses an HTML file containing a product list, extracts the price of each product, and prints the prices to the console.\n",
    "For parsing the HTML file, we Beautiful Soup for web scrapping."
   ]
  },
  {
   "cell_type": "code",
   "execution_count": 167,
   "metadata": {},
   "outputs": [
    {
     "data": {
      "text/html": [
       "<div>\n",
       "<style scoped>\n",
       "    .dataframe tbody tr th:only-of-type {\n",
       "        vertical-align: middle;\n",
       "    }\n",
       "\n",
       "    .dataframe tbody tr th {\n",
       "        vertical-align: top;\n",
       "    }\n",
       "\n",
       "    .dataframe thead th {\n",
       "        text-align: right;\n",
       "    }\n",
       "</style>\n",
       "<table border=\"1\" class=\"dataframe\">\n",
       "  <thead>\n",
       "    <tr style=\"text-align: right;\">\n",
       "      <th></th>\n",
       "      <th>Product Name</th>\n",
       "      <th>Product Price (In Rs.)</th>\n",
       "    </tr>\n",
       "  </thead>\n",
       "  <tbody>\n",
       "    <tr>\n",
       "      <th>0</th>\n",
       "      <td>Acer Ryzen 5</td>\n",
       "      <td>52,999</td>\n",
       "    </tr>\n",
       "    <tr>\n",
       "      <th>1</th>\n",
       "      <td>Dell Inspiron 15</td>\n",
       "      <td>50,999</td>\n",
       "    </tr>\n",
       "    <tr>\n",
       "      <th>2</th>\n",
       "      <td>Lenovo Yoga Slim 7i Gen 9</td>\n",
       "      <td>1,52,999</td>\n",
       "    </tr>\n",
       "    <tr>\n",
       "      <th>3</th>\n",
       "      <td>Apple MacBook Air M1 chip</td>\n",
       "      <td>56,999</td>\n",
       "    </tr>\n",
       "  </tbody>\n",
       "</table>\n",
       "</div>"
      ],
      "text/plain": [
       "                Product Name Product Price (In Rs.)\n",
       "0               Acer Ryzen 5                 52,999\n",
       "1           Dell Inspiron 15                 50,999\n",
       "2  Lenovo Yoga Slim 7i Gen 9               1,52,999\n",
       "3  Apple MacBook Air M1 chip                 56,999"
      ]
     },
     "execution_count": 167,
     "metadata": {},
     "output_type": "execute_result"
    }
   ],
   "source": [
    "html_file = r'HTML-Parser\\main.html'\n",
    "with open(html_file, 'r') as file:\n",
    "    content = file.read()\n",
    "\n",
    "soup = BeautifulSoup(content, 'html.parser')\n",
    "\n",
    "prod_names = soup.find_all('h2')\n",
    "prod_names = [name.getText()[14:] for name in prod_names]\n",
    "\n",
    "prod_prices = soup.find_all(class_=\"price\")\n",
    "prod_prices = [price.getText()[10:] for price in prod_prices]\n",
    "\n",
    "df = pd.DataFrame({'Product Name': prod_names, 'Product Price (In Rs.)': prod_prices})\n",
    "\n",
    "df"
   ]
  },
  {
   "cell_type": "markdown",
   "metadata": {},
   "source": [
    "## **Sum of Continuous Integers in a Mixed String**\n",
    "\n",
    "The program solve for a string containing digits and other characters, and calculate the sum of all integers within the string. Continuous integers must be considered as one number."
   ]
  },
  {
   "cell_type": "code",
   "execution_count": 66,
   "metadata": {},
   "outputs": [
    {
     "name": "stdout",
     "output_type": "stream",
     "text": [
      "Input: a22c5d6\n",
      "33\n"
     ]
    }
   ],
   "source": [
    "def string_sum(word):\n",
    "    print(f'Input: {word}')\n",
    "    result = 0\n",
    "    temp=''\n",
    "    for char in word:\n",
    "        if char.isdigit():\n",
    "            temp+=char\n",
    "        else:\n",
    "            if temp:\n",
    "                result+=int(temp)\n",
    "                temp=''\n",
    "    if temp:\n",
    "        result+=int(temp)\n",
    "    return result\n",
    "\n",
    "print(string_sum(input(\"Enter the string: \")))"
   ]
  },
  {
   "cell_type": "markdown",
   "metadata": {},
   "source": [
    "## **File Validation**\n",
    "The program securely validate uploaded files by checking their file signatures (magic numbers). The program adresses:\n",
    "- How to extract and validate a file's signature against a list of allowed file types (e.g., .jpg, .pdf).\n",
    "- Steps to handle files with incorrect signatures, oversized files, or potential security risks.\n",
    "- Any additional checks to ensure secure file uploads."
   ]
  },
  {
   "cell_type": "code",
   "execution_count": 168,
   "metadata": {},
   "outputs": [],
   "source": [
    "# First define the Allowed file types with their signatures(magic numbers), allowed maximum size of the file, and their corresponding extensions.\n",
    "\n",
    "ALLOWED_FILE_TYPES = {\n",
    "    \"jpg\": {\"signature\": [\"FFD8FF\"], \"max_size\": 5 * 1024 * 1024, \"extensions\":[\".jpg\",\".jpeg\"]},  # 5 MB\n",
    "    \"png\": {\"signature\": [\"89504E47\"], \"max_size\": 5 * 1024 * 1024, \"extensions\":[\".png\"]},  # 5 MB\n",
    "    \"pdf\": {\"signature\": [\"25504446\"], \"max_size\": 10 * 1024 * 1024, \"extensions\":[\".pdf\"]},  # 10 MB\n",
    "}"
   ]
  },
  {
   "cell_type": "code",
   "execution_count": 169,
   "metadata": {},
   "outputs": [],
   "source": [
    "# Read the file signature by reading the unique sequences of bytes at the beginning of a file.\n",
    "\n",
    "def read_signature(file_path):\n",
    "    try:\n",
    "        with open(file_path,'rb') as file:\n",
    "            signature = file.read(8).hex().upper()\n",
    "        return signature\n",
    "    except Exception as e:\n",
    "        return (f\"Error while reading the signature {e}\")\n",
    "        "
   ]
  },
  {
   "cell_type": "code",
   "execution_count": 170,
   "metadata": {},
   "outputs": [],
   "source": [
    "## Validate the signature using the allowed file types and return the file type.\n",
    "\n",
    "def validate_signature(signature):\n",
    "    for file_type, props in ALLOWED_FILE_TYPES.items():\n",
    "        for sign in props[\"signature\"]:\n",
    "            if signature.startswith(sign):\n",
    "                return file_type\n",
    "    return None"
   ]
  },
  {
   "cell_type": "code",
   "execution_count": 171,
   "metadata": {},
   "outputs": [],
   "source": [
    "# Validate the extensions\n",
    "def validate_extention(file_path, valid_file_type):\n",
    "    extention = (os.path.splitext(file_path))[1]\n",
    "    \n",
    "    allowed_extention = ALLOWED_FILE_TYPES[valid_file_type][\"extensions\"]\n",
    "    return extention in allowed_extention"
   ]
  },
  {
   "cell_type": "code",
   "execution_count": 172,
   "metadata": {},
   "outputs": [],
   "source": [
    "## Validating the uploaded file using the functions defined above.\n",
    "\n",
    "def validate_uploaded_file(file_path):\n",
    "\n",
    "    # Check if file does exist or not\n",
    "    if not os.path.exists(file_path):\n",
    "        return \"Error: No file exist.\"\n",
    "    \n",
    "    # Read the signature:\n",
    "    file_sign = read_signature(file_path)\n",
    "    if not file_sign:\n",
    "        return \"Error: Unable to read signature.\"\n",
    "    \n",
    "    # Validate the signature\n",
    "    valid_file_type = validate_signature(file_sign)\n",
    "    if not valid_file_type:\n",
    "        return (\"Error: Unsupported file type. Please upload the coorect file.\")\n",
    "    \n",
    "\n",
    "    # Check the size limit of the file\n",
    "    size = os.path.getsize(file_path)\n",
    "    max_size = ALLOWED_FILE_TYPES[valid_file_type][\"max_size\"]\n",
    "\n",
    "    if size==0:\n",
    "        return \"Error: Empty File.\"\n",
    "    elif size> max_size:\n",
    "        return f\"Error: Exceeded the allowed size for {valid_file_type} (max: {max_size/(1024*1024)} MB).\"\n",
    "    \n",
    "    # Cehck the file extention:\n",
    "    file = os.path.basename(file_path)\n",
    "    if not validate_extention(file, valid_file_type):\n",
    "        return \"Error: File extension does not match.\"\n",
    "    \n",
    "    return \"File Uploaded successfully.\"\n",
    "    \n",
    "    "
   ]
  },
  {
   "cell_type": "code",
   "execution_count": 174,
   "metadata": {},
   "outputs": [
    {
     "name": "stdout",
     "output_type": "stream",
     "text": [
      "File Uploaded successfully.\n"
     ]
    }
   ],
   "source": [
    "print(validate_uploaded_file(r\"File-Validator\\Aashish_Waghmare_Resume.pdf\"))"
   ]
  },
  {
   "cell_type": "code",
   "execution_count": 176,
   "metadata": {},
   "outputs": [
    {
     "name": "stdout",
     "output_type": "stream",
     "text": [
      "Error: Exceeded the allowed size for jpg (max: 5.0 MB).\n"
     ]
    }
   ],
   "source": [
    "print(validate_uploaded_file(r'File-Validator\\IMG_20220403_022831.jpg'))"
   ]
  },
  {
   "cell_type": "code",
   "execution_count": null,
   "metadata": {},
   "outputs": [],
   "source": []
  }
 ],
 "metadata": {
  "kernelspec": {
   "display_name": "env",
   "language": "python",
   "name": "python3"
  },
  "language_info": {
   "codemirror_mode": {
    "name": "ipython",
    "version": 3
   },
   "file_extension": ".py",
   "mimetype": "text/x-python",
   "name": "python",
   "nbconvert_exporter": "python",
   "pygments_lexer": "ipython3",
   "version": "3.12.1"
  }
 },
 "nbformat": 4,
 "nbformat_minor": 2
}
